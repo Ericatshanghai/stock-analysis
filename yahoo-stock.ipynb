{
 "cells": [
  {
   "cell_type": "markdown",
   "metadata": {},
   "source": [
    "## 从雅虎财经网站获取股票数据"
   ]
  },
  {
   "cell_type": "code",
   "execution_count": 1,
   "metadata": {
    "collapsed": true
   },
   "outputs": [],
   "source": [
    "import urllib\n",
    "import os\n",
    "import datetime\n",
    "import pandas as pd\n",
    "import numpy as np"
   ]
  },
  {
   "cell_type": "code",
   "execution_count": 2,
   "metadata": {
    "collapsed": false
   },
   "outputs": [],
   "source": [
    "# 下载整个股票数据\n",
    "def retrive_stock_data(stockid, folder):\n",
    "    print('downloading %s to %s' % (stockid, folder))\n",
    "    url = 'http://table.finance.yahoo.com/table.csv?s=%s' % (stockid)\n",
    "    fname = os.path.join(folder, '%s.csv' % stockid.split('.')[0])\n",
    "    if not os.path.isdir(folder):\n",
    "        os.mkdir(folder)\n",
    "    urllib.urlretrieve(url, fname)"
   ]
  },
  {
   "cell_type": "code",
   "execution_count": 3,
   "metadata": {
    "collapsed": false
   },
   "outputs": [
    {
     "name": "stdout",
     "output_type": "stream",
     "text": [
      "downloading 600690.ss to yahoo-data\n"
     ]
    }
   ],
   "source": [
    "retrive_stock_data('600690.ss', 'yahoo-data')"
   ]
  },
  {
   "cell_type": "code",
   "execution_count": 32,
   "metadata": {
    "collapsed": false
   },
   "outputs": [],
   "source": [
    "# 更新股票数据，如果不存在，则下载。如果存在，则只更新最近日期的数据\n",
    "def update_stock_data(stockid, folder):\n",
    "    fname = os.path.join(folder, '%s.csv' % stockid.split('.')[0])\n",
    "    if not os.path.exists(fname):\n",
    "        retrive_stock_data(stockid, folder)\n",
    "        return\n",
    "    \n",
    "    data = pd.read_csv(fname, index_col='Date', parse_dates=True)\n",
    "    \n",
    "    last_date = data.iloc[0:1].index.tolist()[0]\n",
    "    today = pd.Timestamp(datetime.date.today())\n",
    "    if today - last_date < pd.Timedelta(days=2):\n",
    "        print('Nothing to update. %s last date is %s.' % (stockid, last_date))\n",
    "        return\n",
    "    \n",
    "    print('updatting %s to from %s to %s' % (stockid, last_date.date(), today.date()))\n",
    "    query = [\n",
    "        ('a', last_date.month - 1),\n",
    "        ('b', last_date.day),\n",
    "        ('c', last_date.year),\n",
    "        ('d', today.month - 1),\n",
    "        ('e', today.day),\n",
    "        ('f', today.year),\n",
    "        ('s', stockid),\n",
    "    ]\n",
    "    url = 'http://table.finance.yahoo.com/table.csv?%s' % urllib.urlencode(query)\n",
    "    temp_file = fname + '.tmp'\n",
    "    urllib.urlretrieve(url, temp_file)\n",
    "    update_data = pd.read_csv(temp_file, index_col='Date', parse_dates=True)\n",
    "    data = data.append(update_data)\n",
    "    data.sort_index(ascending=False, inplace=True)\n",
    "    data.to_csv(fname, mode='w')\n",
    "    os.unlink(temp_file)"
   ]
  },
  {
   "cell_type": "code",
   "execution_count": 33,
   "metadata": {
    "collapsed": false
   },
   "outputs": [
    {
     "name": "stdout",
     "output_type": "stream",
     "text": [
      "Nothing to update. 600690.ss last date is 2015-12-22 00:00:00.\n"
     ]
    }
   ],
   "source": [
    "update_stock_data('600690.ss', 'yahoo-data')"
   ]
  },
  {
   "cell_type": "markdown",
   "metadata": {},
   "source": [
    "### 获取所有的股票列表"
   ]
  },
  {
   "cell_type": "code",
   "execution_count": 41,
   "metadata": {
    "collapsed": false
   },
   "outputs": [
    {
     "data": {
      "text/html": [
       "<div>\n",
       "<table border=\"1\" class=\"dataframe\">\n",
       "  <thead>\n",
       "    <tr style=\"text-align: right;\">\n",
       "      <th></th>\n",
       "      <th>name</th>\n",
       "      <th>id</th>\n",
       "    </tr>\n",
       "  </thead>\n",
       "  <tbody>\n",
       "    <tr>\n",
       "      <th>0</th>\n",
       "      <td>浦发银行</td>\n",
       "      <td>600000.ss</td>\n",
       "    </tr>\n",
       "    <tr>\n",
       "      <th>1</th>\n",
       "      <td>邯郸钢铁</td>\n",
       "      <td>600001.ss</td>\n",
       "    </tr>\n",
       "    <tr>\n",
       "      <th>2</th>\n",
       "      <td>齐鲁石化</td>\n",
       "      <td>600002.ss</td>\n",
       "    </tr>\n",
       "    <tr>\n",
       "      <th>3</th>\n",
       "      <td>ST东北高</td>\n",
       "      <td>600003.ss</td>\n",
       "    </tr>\n",
       "    <tr>\n",
       "      <th>4</th>\n",
       "      <td>白云机场</td>\n",
       "      <td>600004.ss</td>\n",
       "    </tr>\n",
       "  </tbody>\n",
       "</table>\n",
       "</div>"
      ],
      "text/plain": [
       "    name         id\n",
       "0   浦发银行  600000.ss\n",
       "1   邯郸钢铁  600001.ss\n",
       "2   齐鲁石化  600002.ss\n",
       "3  ST东北高  600003.ss\n",
       "4   白云机场  600004.ss"
      ]
     },
     "execution_count": 41,
     "metadata": {},
     "output_type": "execute_result"
    }
   ],
   "source": [
    "sh = pd.read_csv('SH.txt', header=None, names=['name', 'id'], dtype={'id': np.string0}, skipinitialspace=True)\n",
    "sh['id'] = sh['id'] + '.ss'\n",
    "sh.head()"
   ]
  },
  {
   "cell_type": "code",
   "execution_count": 42,
   "metadata": {
    "collapsed": false
   },
   "outputs": [
    {
     "data": {
      "text/html": [
       "<div>\n",
       "<table border=\"1\" class=\"dataframe\">\n",
       "  <thead>\n",
       "    <tr style=\"text-align: right;\">\n",
       "      <th></th>\n",
       "      <th>name</th>\n",
       "      <th>id</th>\n",
       "    </tr>\n",
       "  </thead>\n",
       "  <tbody>\n",
       "    <tr>\n",
       "      <th>0</th>\n",
       "      <td>平安银行</td>\n",
       "      <td>000001.sz</td>\n",
       "    </tr>\n",
       "    <tr>\n",
       "      <th>1</th>\n",
       "      <td>万科A</td>\n",
       "      <td>000002.sz</td>\n",
       "    </tr>\n",
       "    <tr>\n",
       "      <th>2</th>\n",
       "      <td>PT金田A</td>\n",
       "      <td>000003.sz</td>\n",
       "    </tr>\n",
       "    <tr>\n",
       "      <th>3</th>\n",
       "      <td>国农科技</td>\n",
       "      <td>000004.sz</td>\n",
       "    </tr>\n",
       "    <tr>\n",
       "      <th>4</th>\n",
       "      <td>世纪星源</td>\n",
       "      <td>000005.sz</td>\n",
       "    </tr>\n",
       "  </tbody>\n",
       "</table>\n",
       "</div>"
      ],
      "text/plain": [
       "    name         id\n",
       "0   平安银行  000001.sz\n",
       "1    万科A  000002.sz\n",
       "2  PT金田A  000003.sz\n",
       "3   国农科技  000004.sz\n",
       "4   世纪星源  000005.sz"
      ]
     },
     "execution_count": 42,
     "metadata": {},
     "output_type": "execute_result"
    }
   ],
   "source": [
    "sz = pd.read_csv('SZ.txt', header=None, names=['name', 'id'], dtype={'id': np.string0}, skipinitialspace=True)\n",
    "sz['id']= sz['id'] + '.sz'\n",
    "sz.head()"
   ]
  },
  {
   "cell_type": "code",
   "execution_count": 43,
   "metadata": {
    "collapsed": false
   },
   "outputs": [
    {
     "data": {
      "text/plain": [
       "array(['600000.ss', '600001.ss', '600002.ss', '600003.ss', '600004.ss'], dtype=object)"
      ]
     },
     "execution_count": 43,
     "metadata": {},
     "output_type": "execute_result"
    }
   ],
   "source": [
    "slist = pd.concat([sh, sz])\n",
    "slist.head()['id'].values"
   ]
  },
  {
   "cell_type": "code",
   "execution_count": 47,
   "metadata": {
    "collapsed": false
   },
   "outputs": [
    {
     "data": {
      "text/html": [
       "<div>\n",
       "<table border=\"1\" class=\"dataframe\">\n",
       "  <thead>\n",
       "    <tr style=\"text-align: right;\">\n",
       "      <th></th>\n",
       "      <th>name</th>\n",
       "      <th>id</th>\n",
       "    </tr>\n",
       "  </thead>\n",
       "  <tbody>\n",
       "    <tr>\n",
       "      <th>509</th>\n",
       "      <td>新和成</td>\n",
       "      <td>002001.sz</td>\n",
       "    </tr>\n",
       "    <tr>\n",
       "      <th>510</th>\n",
       "      <td>鸿达兴业</td>\n",
       "      <td>002002.sz</td>\n",
       "    </tr>\n",
       "    <tr>\n",
       "      <th>511</th>\n",
       "      <td>伟星股份</td>\n",
       "      <td>002003.sz</td>\n",
       "    </tr>\n",
       "    <tr>\n",
       "      <th>512</th>\n",
       "      <td>华邦健康</td>\n",
       "      <td>002004.sz</td>\n",
       "    </tr>\n",
       "    <tr>\n",
       "      <th>513</th>\n",
       "      <td>德豪润达</td>\n",
       "      <td>002005.sz</td>\n",
       "    </tr>\n",
       "  </tbody>\n",
       "</table>\n",
       "</div>"
      ],
      "text/plain": [
       "     name         id\n",
       "509   新和成  002001.sz\n",
       "510  鸿达兴业  002002.sz\n",
       "511  伟星股份  002003.sz\n",
       "512  华邦健康  002004.sz\n",
       "513  德豪润达  002005.sz"
      ]
     },
     "execution_count": 47,
     "metadata": {},
     "output_type": "execute_result"
    }
   ],
   "source": [
    "slist[slist['id'].str.startswith('002')].head()"
   ]
  }
 ],
 "metadata": {
  "kernelspec": {
   "display_name": "Python 2",
   "language": "python",
   "name": "python2"
  },
  "language_info": {
   "codemirror_mode": {
    "name": "ipython",
    "version": 2
   },
   "file_extension": ".py",
   "mimetype": "text/x-python",
   "name": "python",
   "nbconvert_exporter": "python",
   "pygments_lexer": "ipython2",
   "version": "2.7.10"
  }
 },
 "nbformat": 4,
 "nbformat_minor": 0
}
