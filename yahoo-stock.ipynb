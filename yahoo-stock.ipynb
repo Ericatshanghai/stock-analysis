{
 "cells": [
  {
   "cell_type": "markdown",
   "metadata": {},
   "source": [
    "## 从雅虎财经网站获取股票数据"
   ]
  },
  {
   "cell_type": "code",
   "execution_count": 18,
   "metadata": {
    "collapsed": true
   },
   "outputs": [],
   "source": [
    "%matplotlib inline\n",
    "\n",
    "import urllib\n",
    "import os\n",
    "import datetime\n",
    "import pandas as pd\n",
    "import numpy as np\n",
    "\n",
    "import matplotlib.pyplot as plt"
   ]
  },
  {
   "cell_type": "code",
   "execution_count": 2,
   "metadata": {
    "collapsed": false
   },
   "outputs": [],
   "source": [
    "# 下载整个股票数据\n",
    "def retrive_stock_data(stockid, folder):\n",
    "    print('downloading %s to %s' % (stockid, folder))\n",
    "    url = 'http://table.finance.yahoo.com/table.csv?s=%s' % (stockid)\n",
    "    fname = os.path.join(folder, '%s.csv' % stockid.split('.')[0])\n",
    "    if not os.path.isdir(folder):\n",
    "        os.mkdir(folder)\n",
    "    urllib.urlretrieve(url, fname)"
   ]
  },
  {
   "cell_type": "code",
   "execution_count": 3,
   "metadata": {
    "collapsed": false
   },
   "outputs": [
    {
     "name": "stdout",
     "output_type": "stream",
     "text": [
      "downloading 600690.ss to yahoo-data\n"
     ]
    }
   ],
   "source": [
    "retrive_stock_data('600690.ss', 'yahoo-data')"
   ]
  },
  {
   "cell_type": "code",
   "execution_count": 4,
   "metadata": {
    "collapsed": false
   },
   "outputs": [],
   "source": [
    "# 更新股票数据，如果不存在，则下载。如果存在，则只更新最近日期的数据\n",
    "def update_stock_data(stockid, folder):\n",
    "    fname = os.path.join(folder, '%s.csv' % stockid.split('.')[0])\n",
    "    if not os.path.exists(fname):\n",
    "        retrive_stock_data(stockid, folder)\n",
    "        return\n",
    "    \n",
    "    data = pd.read_csv(fname, index_col='Date', parse_dates=True)\n",
    "    \n",
    "    last_date = data.iloc[0:1].index.tolist()[0]\n",
    "    today = pd.Timestamp(datetime.date.today())\n",
    "    if today - last_date < pd.Timedelta(days=2):\n",
    "        print('Nothing to update. %s last date is %s.' % (stockid, last_date))\n",
    "        return\n",
    "    \n",
    "    print('updatting %s to from %s to %s' % (stockid, last_date.date(), today.date()))\n",
    "    query = [\n",
    "        ('a', last_date.month - 1),\n",
    "        ('b', last_date.day),\n",
    "        ('c', last_date.year),\n",
    "        ('d', today.month - 1),\n",
    "        ('e', today.day),\n",
    "        ('f', today.year),\n",
    "        ('s', stockid),\n",
    "    ]\n",
    "    url = 'http://table.finance.yahoo.com/table.csv?%s' % urllib.urlencode(query)\n",
    "    temp_file = fname + '.tmp'\n",
    "    urllib.urlretrieve(url, temp_file)\n",
    "    update_data = pd.read_csv(temp_file, index_col='Date', parse_dates=True)\n",
    "    data = data.append(update_data)\n",
    "    data.sort_index(ascending=False, inplace=True)\n",
    "    data.to_csv(fname, mode='w')\n",
    "    os.unlink(temp_file)"
   ]
  },
  {
   "cell_type": "code",
   "execution_count": 5,
   "metadata": {
    "collapsed": false
   },
   "outputs": [
    {
     "name": "stdout",
     "output_type": "stream",
     "text": [
      "Nothing to update. 600690.ss last date is 2016-05-19 00:00:00.\n"
     ]
    }
   ],
   "source": [
    "update_stock_data('600690.ss', 'yahoo-data')"
   ]
  },
  {
   "cell_type": "markdown",
   "metadata": {},
   "source": [
    "### 获取所有的股票列表"
   ]
  },
  {
   "cell_type": "code",
   "execution_count": 6,
   "metadata": {
    "collapsed": false
   },
   "outputs": [
    {
     "data": {
      "text/html": [
       "<div>\n",
       "<table border=\"1\" class=\"dataframe\">\n",
       "  <thead>\n",
       "    <tr style=\"text-align: right;\">\n",
       "      <th></th>\n",
       "      <th>name</th>\n",
       "      <th>id</th>\n",
       "    </tr>\n",
       "  </thead>\n",
       "  <tbody>\n",
       "    <tr>\n",
       "      <th>0</th>\n",
       "      <td>浦发银行</td>\n",
       "      <td>600000.ss</td>\n",
       "    </tr>\n",
       "    <tr>\n",
       "      <th>1</th>\n",
       "      <td>邯郸钢铁</td>\n",
       "      <td>600001.ss</td>\n",
       "    </tr>\n",
       "    <tr>\n",
       "      <th>2</th>\n",
       "      <td>齐鲁石化</td>\n",
       "      <td>600002.ss</td>\n",
       "    </tr>\n",
       "    <tr>\n",
       "      <th>3</th>\n",
       "      <td>ST东北高</td>\n",
       "      <td>600003.ss</td>\n",
       "    </tr>\n",
       "    <tr>\n",
       "      <th>4</th>\n",
       "      <td>白云机场</td>\n",
       "      <td>600004.ss</td>\n",
       "    </tr>\n",
       "  </tbody>\n",
       "</table>\n",
       "</div>"
      ],
      "text/plain": [
       "    name         id\n",
       "0   浦发银行  600000.ss\n",
       "1   邯郸钢铁  600001.ss\n",
       "2   齐鲁石化  600002.ss\n",
       "3  ST东北高  600003.ss\n",
       "4   白云机场  600004.ss"
      ]
     },
     "execution_count": 6,
     "metadata": {},
     "output_type": "execute_result"
    }
   ],
   "source": [
    "sh = pd.read_csv('SH.txt', header=None, names=['name', 'id'], dtype={'id': np.string0}, skipinitialspace=True)\n",
    "sh['id'] = sh['id'] + '.ss'\n",
    "sh.head()"
   ]
  },
  {
   "cell_type": "code",
   "execution_count": 7,
   "metadata": {
    "collapsed": false
   },
   "outputs": [
    {
     "data": {
      "text/html": [
       "<div>\n",
       "<table border=\"1\" class=\"dataframe\">\n",
       "  <thead>\n",
       "    <tr style=\"text-align: right;\">\n",
       "      <th></th>\n",
       "      <th>name</th>\n",
       "      <th>id</th>\n",
       "    </tr>\n",
       "  </thead>\n",
       "  <tbody>\n",
       "    <tr>\n",
       "      <th>0</th>\n",
       "      <td>平安银行</td>\n",
       "      <td>000001.sz</td>\n",
       "    </tr>\n",
       "    <tr>\n",
       "      <th>1</th>\n",
       "      <td>万科A</td>\n",
       "      <td>000002.sz</td>\n",
       "    </tr>\n",
       "    <tr>\n",
       "      <th>2</th>\n",
       "      <td>PT金田A</td>\n",
       "      <td>000003.sz</td>\n",
       "    </tr>\n",
       "    <tr>\n",
       "      <th>3</th>\n",
       "      <td>国农科技</td>\n",
       "      <td>000004.sz</td>\n",
       "    </tr>\n",
       "    <tr>\n",
       "      <th>4</th>\n",
       "      <td>世纪星源</td>\n",
       "      <td>000005.sz</td>\n",
       "    </tr>\n",
       "  </tbody>\n",
       "</table>\n",
       "</div>"
      ],
      "text/plain": [
       "    name         id\n",
       "0   平安银行  000001.sz\n",
       "1    万科A  000002.sz\n",
       "2  PT金田A  000003.sz\n",
       "3   国农科技  000004.sz\n",
       "4   世纪星源  000005.sz"
      ]
     },
     "execution_count": 7,
     "metadata": {},
     "output_type": "execute_result"
    }
   ],
   "source": [
    "sz = pd.read_csv('SZ.txt', header=None, names=['name', 'id'], dtype={'id': np.string0}, skipinitialspace=True)\n",
    "sz['id']= sz['id'] + '.sz'\n",
    "sz.head()"
   ]
  },
  {
   "cell_type": "code",
   "execution_count": 8,
   "metadata": {
    "collapsed": false
   },
   "outputs": [
    {
     "data": {
      "text/plain": [
       "array(['600000.ss', '600001.ss', '600002.ss', '600003.ss', '600004.ss'], dtype=object)"
      ]
     },
     "execution_count": 8,
     "metadata": {},
     "output_type": "execute_result"
    }
   ],
   "source": [
    "slist = pd.concat([sh, sz])\n",
    "slist.head()['id'].values"
   ]
  },
  {
   "cell_type": "code",
   "execution_count": 9,
   "metadata": {
    "collapsed": false
   },
   "outputs": [
    {
     "data": {
      "text/html": [
       "<div>\n",
       "<table border=\"1\" class=\"dataframe\">\n",
       "  <thead>\n",
       "    <tr style=\"text-align: right;\">\n",
       "      <th></th>\n",
       "      <th>name</th>\n",
       "      <th>id</th>\n",
       "    </tr>\n",
       "  </thead>\n",
       "  <tbody>\n",
       "    <tr>\n",
       "      <th>509</th>\n",
       "      <td>新和成</td>\n",
       "      <td>002001.sz</td>\n",
       "    </tr>\n",
       "    <tr>\n",
       "      <th>510</th>\n",
       "      <td>鸿达兴业</td>\n",
       "      <td>002002.sz</td>\n",
       "    </tr>\n",
       "    <tr>\n",
       "      <th>511</th>\n",
       "      <td>伟星股份</td>\n",
       "      <td>002003.sz</td>\n",
       "    </tr>\n",
       "    <tr>\n",
       "      <th>512</th>\n",
       "      <td>华邦健康</td>\n",
       "      <td>002004.sz</td>\n",
       "    </tr>\n",
       "    <tr>\n",
       "      <th>513</th>\n",
       "      <td>德豪润达</td>\n",
       "      <td>002005.sz</td>\n",
       "    </tr>\n",
       "  </tbody>\n",
       "</table>\n",
       "</div>"
      ],
      "text/plain": [
       "     name         id\n",
       "509   新和成  002001.sz\n",
       "510  鸿达兴业  002002.sz\n",
       "511  伟星股份  002003.sz\n",
       "512  华邦健康  002004.sz\n",
       "513  德豪润达  002005.sz"
      ]
     },
     "execution_count": 9,
     "metadata": {},
     "output_type": "execute_result"
    }
   ],
   "source": [
    "slist[slist['id'].str.startswith('002')].head()"
   ]
  },
  {
   "cell_type": "markdown",
   "metadata": {},
   "source": [
    "## 数据分析\n",
    "\n",
    "### 股票振幅"
   ]
  },
  {
   "cell_type": "code",
   "execution_count": 11,
   "metadata": {
    "collapsed": false
   },
   "outputs": [
    {
     "name": "stdout",
     "output_type": "stream",
     "text": [
      "head 5 recent amplitude in period of 30 for all stocks in yahoo-data till 2015-12-22 00:00:00:\n",
      "         id       amp\n",
      "552  002558  3.096195\n",
      "661  002667  3.049323\n",
      "93   002094  2.267884\n",
      "449  002453  2.200345\n",
      "596  002602  2.135440\n",
      "tail 5 recent ripples in period of 30 for all stocks in yahoo-data till 2015-12-22 00:00:00:\n",
      "         id       amp\n",
      "35   002036 -1.452381\n",
      "288  002290 -1.453560\n",
      "662  002668 -1.484576\n",
      "619  002625 -1.530096\n",
      "308  002310 -1.554295\n"
     ]
    }
   ],
   "source": [
    "import stock_analysis as sa\n",
    "\n",
    "amp = sa.amplitude(datadir='yahoo-data', interval=30, end_date=\"2015-12-22\")"
   ]
  },
  {
   "cell_type": "code",
   "execution_count": 12,
   "metadata": {
    "collapsed": false
   },
   "outputs": [
    {
     "data": {
      "text/html": [
       "<div>\n",
       "<table border=\"1\" class=\"dataframe\">\n",
       "  <thead>\n",
       "    <tr style=\"text-align: right;\">\n",
       "      <th></th>\n",
       "      <th>id</th>\n",
       "      <th>amp</th>\n",
       "    </tr>\n",
       "  </thead>\n",
       "  <tbody>\n",
       "    <tr>\n",
       "      <th>568</th>\n",
       "      <td>002574</td>\n",
       "      <td>1.299804</td>\n",
       "    </tr>\n",
       "    <tr>\n",
       "      <th>347</th>\n",
       "      <td>002351</td>\n",
       "      <td>1.299571</td>\n",
       "    </tr>\n",
       "    <tr>\n",
       "      <th>478</th>\n",
       "      <td>002482</td>\n",
       "      <td>1.299156</td>\n",
       "    </tr>\n",
       "    <tr>\n",
       "      <th>180</th>\n",
       "      <td>002181</td>\n",
       "      <td>1.298887</td>\n",
       "    </tr>\n",
       "    <tr>\n",
       "      <th>668</th>\n",
       "      <td>002674</td>\n",
       "      <td>1.298436</td>\n",
       "    </tr>\n",
       "    <tr>\n",
       "      <th>360</th>\n",
       "      <td>002364</td>\n",
       "      <td>1.298000</td>\n",
       "    </tr>\n",
       "    <tr>\n",
       "      <th>575</th>\n",
       "      <td>002581</td>\n",
       "      <td>1.295427</td>\n",
       "    </tr>\n",
       "    <tr>\n",
       "      <th>628</th>\n",
       "      <td>002634</td>\n",
       "      <td>1.295279</td>\n",
       "    </tr>\n",
       "    <tr>\n",
       "      <th>397</th>\n",
       "      <td>002401</td>\n",
       "      <td>1.295178</td>\n",
       "    </tr>\n",
       "    <tr>\n",
       "      <th>268</th>\n",
       "      <td>002270</td>\n",
       "      <td>1.293103</td>\n",
       "    </tr>\n",
       "    <tr>\n",
       "      <th>505</th>\n",
       "      <td>002509</td>\n",
       "      <td>1.292622</td>\n",
       "    </tr>\n",
       "    <tr>\n",
       "      <th>361</th>\n",
       "      <td>002365</td>\n",
       "      <td>1.292181</td>\n",
       "    </tr>\n",
       "    <tr>\n",
       "      <th>125</th>\n",
       "      <td>002126</td>\n",
       "      <td>1.291795</td>\n",
       "    </tr>\n",
       "    <tr>\n",
       "      <th>389</th>\n",
       "      <td>002393</td>\n",
       "      <td>1.291657</td>\n",
       "    </tr>\n",
       "    <tr>\n",
       "      <th>86</th>\n",
       "      <td>002087</td>\n",
       "      <td>1.291607</td>\n",
       "    </tr>\n",
       "    <tr>\n",
       "      <th>166</th>\n",
       "      <td>002167</td>\n",
       "      <td>1.290685</td>\n",
       "    </tr>\n",
       "    <tr>\n",
       "      <th>486</th>\n",
       "      <td>002490</td>\n",
       "      <td>1.289871</td>\n",
       "    </tr>\n",
       "    <tr>\n",
       "      <th>228</th>\n",
       "      <td>002229</td>\n",
       "      <td>1.289328</td>\n",
       "    </tr>\n",
       "    <tr>\n",
       "      <th>760</th>\n",
       "      <td>002776</td>\n",
       "      <td>1.288749</td>\n",
       "    </tr>\n",
       "    <tr>\n",
       "      <th>259</th>\n",
       "      <td>002261</td>\n",
       "      <td>1.288344</td>\n",
       "    </tr>\n",
       "    <tr>\n",
       "      <th>681</th>\n",
       "      <td>002687</td>\n",
       "      <td>1.288056</td>\n",
       "    </tr>\n",
       "    <tr>\n",
       "      <th>425</th>\n",
       "      <td>002429</td>\n",
       "      <td>1.286726</td>\n",
       "    </tr>\n",
       "    <tr>\n",
       "      <th>582</th>\n",
       "      <td>002588</td>\n",
       "      <td>1.284247</td>\n",
       "    </tr>\n",
       "    <tr>\n",
       "      <th>656</th>\n",
       "      <td>002662</td>\n",
       "      <td>1.282535</td>\n",
       "    </tr>\n",
       "    <tr>\n",
       "      <th>214</th>\n",
       "      <td>002215</td>\n",
       "      <td>1.280668</td>\n",
       "    </tr>\n",
       "    <tr>\n",
       "      <th>733</th>\n",
       "      <td>002742</td>\n",
       "      <td>1.279295</td>\n",
       "    </tr>\n",
       "    <tr>\n",
       "      <th>687</th>\n",
       "      <td>002693</td>\n",
       "      <td>1.278907</td>\n",
       "    </tr>\n",
       "    <tr>\n",
       "      <th>473</th>\n",
       "      <td>002477</td>\n",
       "      <td>1.278667</td>\n",
       "    </tr>\n",
       "    <tr>\n",
       "      <th>720</th>\n",
       "      <td>002729</td>\n",
       "      <td>1.278197</td>\n",
       "    </tr>\n",
       "    <tr>\n",
       "      <th>446</th>\n",
       "      <td>002450</td>\n",
       "      <td>1.276857</td>\n",
       "    </tr>\n",
       "    <tr>\n",
       "      <th>...</th>\n",
       "      <td>...</td>\n",
       "      <td>...</td>\n",
       "    </tr>\n",
       "    <tr>\n",
       "      <th>344</th>\n",
       "      <td>002348</td>\n",
       "      <td>-1.360127</td>\n",
       "    </tr>\n",
       "    <tr>\n",
       "      <th>369</th>\n",
       "      <td>002373</td>\n",
       "      <td>-1.362683</td>\n",
       "    </tr>\n",
       "    <tr>\n",
       "      <th>523</th>\n",
       "      <td>002529</td>\n",
       "      <td>-1.365297</td>\n",
       "    </tr>\n",
       "    <tr>\n",
       "      <th>66</th>\n",
       "      <td>002067</td>\n",
       "      <td>-1.369180</td>\n",
       "    </tr>\n",
       "    <tr>\n",
       "      <th>190</th>\n",
       "      <td>002191</td>\n",
       "      <td>-1.371877</td>\n",
       "    </tr>\n",
       "    <tr>\n",
       "      <th>209</th>\n",
       "      <td>002210</td>\n",
       "      <td>-1.371971</td>\n",
       "    </tr>\n",
       "    <tr>\n",
       "      <th>756</th>\n",
       "      <td>002771</td>\n",
       "      <td>-1.372857</td>\n",
       "    </tr>\n",
       "    <tr>\n",
       "      <th>182</th>\n",
       "      <td>002183</td>\n",
       "      <td>-1.375469</td>\n",
       "    </tr>\n",
       "    <tr>\n",
       "      <th>664</th>\n",
       "      <td>002670</td>\n",
       "      <td>-1.377231</td>\n",
       "    </tr>\n",
       "    <tr>\n",
       "      <th>255</th>\n",
       "      <td>002256</td>\n",
       "      <td>-1.378159</td>\n",
       "    </tr>\n",
       "    <tr>\n",
       "      <th>671</th>\n",
       "      <td>002677</td>\n",
       "      <td>-1.380978</td>\n",
       "    </tr>\n",
       "    <tr>\n",
       "      <th>428</th>\n",
       "      <td>002432</td>\n",
       "      <td>-1.384863</td>\n",
       "    </tr>\n",
       "    <tr>\n",
       "      <th>614</th>\n",
       "      <td>002620</td>\n",
       "      <td>-1.387672</td>\n",
       "    </tr>\n",
       "    <tr>\n",
       "      <th>202</th>\n",
       "      <td>002203</td>\n",
       "      <td>-1.393819</td>\n",
       "    </tr>\n",
       "    <tr>\n",
       "      <th>314</th>\n",
       "      <td>002316</td>\n",
       "      <td>-1.394595</td>\n",
       "    </tr>\n",
       "    <tr>\n",
       "      <th>196</th>\n",
       "      <td>002197</td>\n",
       "      <td>-1.395317</td>\n",
       "    </tr>\n",
       "    <tr>\n",
       "      <th>701</th>\n",
       "      <td>002708</td>\n",
       "      <td>-1.407602</td>\n",
       "    </tr>\n",
       "    <tr>\n",
       "      <th>706</th>\n",
       "      <td>002714</td>\n",
       "      <td>-1.413494</td>\n",
       "    </tr>\n",
       "    <tr>\n",
       "      <th>94</th>\n",
       "      <td>002095</td>\n",
       "      <td>-1.415890</td>\n",
       "    </tr>\n",
       "    <tr>\n",
       "      <th>351</th>\n",
       "      <td>002355</td>\n",
       "      <td>-1.423077</td>\n",
       "    </tr>\n",
       "    <tr>\n",
       "      <th>421</th>\n",
       "      <td>002425</td>\n",
       "      <td>-1.425865</td>\n",
       "    </tr>\n",
       "    <tr>\n",
       "      <th>581</th>\n",
       "      <td>002587</td>\n",
       "      <td>-1.430159</td>\n",
       "    </tr>\n",
       "    <tr>\n",
       "      <th>26</th>\n",
       "      <td>002027</td>\n",
       "      <td>-1.443056</td>\n",
       "    </tr>\n",
       "    <tr>\n",
       "      <th>741</th>\n",
       "      <td>002751</td>\n",
       "      <td>-1.446392</td>\n",
       "    </tr>\n",
       "    <tr>\n",
       "      <th>339</th>\n",
       "      <td>002343</td>\n",
       "      <td>-1.450894</td>\n",
       "    </tr>\n",
       "    <tr>\n",
       "      <th>35</th>\n",
       "      <td>002036</td>\n",
       "      <td>-1.452381</td>\n",
       "    </tr>\n",
       "    <tr>\n",
       "      <th>288</th>\n",
       "      <td>002290</td>\n",
       "      <td>-1.453560</td>\n",
       "    </tr>\n",
       "    <tr>\n",
       "      <th>662</th>\n",
       "      <td>002668</td>\n",
       "      <td>-1.484576</td>\n",
       "    </tr>\n",
       "    <tr>\n",
       "      <th>619</th>\n",
       "      <td>002625</td>\n",
       "      <td>-1.530096</td>\n",
       "    </tr>\n",
       "    <tr>\n",
       "      <th>308</th>\n",
       "      <td>002310</td>\n",
       "      <td>-1.554295</td>\n",
       "    </tr>\n",
       "  </tbody>\n",
       "</table>\n",
       "<p>563 rows × 2 columns</p>\n",
       "</div>"
      ],
      "text/plain": [
       "         id       amp\n",
       "568  002574  1.299804\n",
       "347  002351  1.299571\n",
       "478  002482  1.299156\n",
       "180  002181  1.298887\n",
       "668  002674  1.298436\n",
       "360  002364  1.298000\n",
       "575  002581  1.295427\n",
       "628  002634  1.295279\n",
       "397  002401  1.295178\n",
       "268  002270  1.293103\n",
       "505  002509  1.292622\n",
       "361  002365  1.292181\n",
       "125  002126  1.291795\n",
       "389  002393  1.291657\n",
       "86   002087  1.291607\n",
       "166  002167  1.290685\n",
       "486  002490  1.289871\n",
       "228  002229  1.289328\n",
       "760  002776  1.288749\n",
       "259  002261  1.288344\n",
       "681  002687  1.288056\n",
       "425  002429  1.286726\n",
       "582  002588  1.284247\n",
       "656  002662  1.282535\n",
       "214  002215  1.280668\n",
       "733  002742  1.279295\n",
       "687  002693  1.278907\n",
       "473  002477  1.278667\n",
       "720  002729  1.278197\n",
       "446  002450  1.276857\n",
       "..      ...       ...\n",
       "344  002348 -1.360127\n",
       "369  002373 -1.362683\n",
       "523  002529 -1.365297\n",
       "66   002067 -1.369180\n",
       "190  002191 -1.371877\n",
       "209  002210 -1.371971\n",
       "756  002771 -1.372857\n",
       "182  002183 -1.375469\n",
       "664  002670 -1.377231\n",
       "255  002256 -1.378159\n",
       "671  002677 -1.380978\n",
       "428  002432 -1.384863\n",
       "614  002620 -1.387672\n",
       "202  002203 -1.393819\n",
       "314  002316 -1.394595\n",
       "196  002197 -1.395317\n",
       "701  002708 -1.407602\n",
       "706  002714 -1.413494\n",
       "94   002095 -1.415890\n",
       "351  002355 -1.423077\n",
       "421  002425 -1.425865\n",
       "581  002587 -1.430159\n",
       "26   002027 -1.443056\n",
       "741  002751 -1.446392\n",
       "339  002343 -1.450894\n",
       "35   002036 -1.452381\n",
       "288  002290 -1.453560\n",
       "662  002668 -1.484576\n",
       "619  002625 -1.530096\n",
       "308  002310 -1.554295\n",
       "\n",
       "[563 rows x 2 columns]"
      ]
     },
     "execution_count": 12,
     "metadata": {},
     "output_type": "execute_result"
    }
   ],
   "source": [
    "amp[amp['amp'] < 1.3]"
   ]
  },
  {
   "cell_type": "markdown",
   "metadata": {},
   "source": [
    "### 增长曲线"
   ]
  },
  {
   "cell_type": "code",
   "execution_count": 73,
   "metadata": {
    "collapsed": false
   },
   "outputs": [],
   "source": [
    "import yahoo_stock as ys"
   ]
  },
  {
   "cell_type": "code",
   "execution_count": 74,
   "metadata": {
    "collapsed": true
   },
   "outputs": [],
   "source": [
    "# 600690.ss 000951.sz 002001.sz\n",
    "stockid = '002001.sz'\n",
    "stockfile = '002001.csv'"
   ]
  },
  {
   "cell_type": "code",
   "execution_count": 72,
   "metadata": {
    "collapsed": false
   },
   "outputs": [
    {
     "name": "stdout",
     "output_type": "stream",
     "text": [
      "downloading 002001.sz to yahoo-data from http://table.finance.yahoo.com/table.csv?s=002001.sz\n"
     ]
    }
   ],
   "source": [
    "ys.retrive_stock_data(stockid, 'yahoo-data')"
   ]
  },
  {
   "cell_type": "code",
   "execution_count": 75,
   "metadata": {
    "collapsed": false
   },
   "outputs": [
    {
     "data": {
      "text/html": [
       "<div>\n",
       "<table border=\"1\" class=\"dataframe\">\n",
       "  <thead>\n",
       "    <tr style=\"text-align: right;\">\n",
       "      <th></th>\n",
       "      <th>Open</th>\n",
       "      <th>High</th>\n",
       "      <th>Low</th>\n",
       "      <th>Close</th>\n",
       "      <th>Volume</th>\n",
       "      <th>Adj Close</th>\n",
       "    </tr>\n",
       "    <tr>\n",
       "      <th>Date</th>\n",
       "      <th></th>\n",
       "      <th></th>\n",
       "      <th></th>\n",
       "      <th></th>\n",
       "      <th></th>\n",
       "      <th></th>\n",
       "    </tr>\n",
       "  </thead>\n",
       "  <tbody>\n",
       "    <tr>\n",
       "      <th>2016-05-19</th>\n",
       "      <td>19.12</td>\n",
       "      <td>19.52</td>\n",
       "      <td>18.90</td>\n",
       "      <td>18.98</td>\n",
       "      <td>12581300</td>\n",
       "      <td>18.98</td>\n",
       "    </tr>\n",
       "    <tr>\n",
       "      <th>2016-05-18</th>\n",
       "      <td>19.50</td>\n",
       "      <td>20.10</td>\n",
       "      <td>18.83</td>\n",
       "      <td>19.23</td>\n",
       "      <td>22042500</td>\n",
       "      <td>19.23</td>\n",
       "    </tr>\n",
       "    <tr>\n",
       "      <th>2016-05-17</th>\n",
       "      <td>19.73</td>\n",
       "      <td>20.23</td>\n",
       "      <td>19.65</td>\n",
       "      <td>19.77</td>\n",
       "      <td>20469800</td>\n",
       "      <td>19.77</td>\n",
       "    </tr>\n",
       "    <tr>\n",
       "      <th>2016-05-16</th>\n",
       "      <td>19.43</td>\n",
       "      <td>19.64</td>\n",
       "      <td>19.20</td>\n",
       "      <td>19.62</td>\n",
       "      <td>10963200</td>\n",
       "      <td>19.62</td>\n",
       "    </tr>\n",
       "    <tr>\n",
       "      <th>2016-05-13</th>\n",
       "      <td>19.70</td>\n",
       "      <td>19.94</td>\n",
       "      <td>19.27</td>\n",
       "      <td>19.40</td>\n",
       "      <td>15655100</td>\n",
       "      <td>19.40</td>\n",
       "    </tr>\n",
       "  </tbody>\n",
       "</table>\n",
       "</div>"
      ],
      "text/plain": [
       "             Open   High    Low  Close    Volume  Adj Close\n",
       "Date                                                       \n",
       "2016-05-19  19.12  19.52  18.90  18.98  12581300      18.98\n",
       "2016-05-18  19.50  20.10  18.83  19.23  22042500      19.23\n",
       "2016-05-17  19.73  20.23  19.65  19.77  20469800      19.77\n",
       "2016-05-16  19.43  19.64  19.20  19.62  10963200      19.62\n",
       "2016-05-13  19.70  19.94  19.27  19.40  15655100      19.40"
      ]
     },
     "execution_count": 75,
     "metadata": {},
     "output_type": "execute_result"
    }
   ],
   "source": [
    "ds = pd.read_csv(os.path.join('yahoo-data', stockfile), index_col='Date', parse_dates=True)\n",
    "ds.head()"
   ]
  },
  {
   "cell_type": "code",
   "execution_count": 76,
   "metadata": {
    "collapsed": false
   },
   "outputs": [
    {
     "data": {
      "text/plain": [
       "<matplotlib.axes._subplots.AxesSubplot at 0x8860890>"
      ]
     },
     "execution_count": 76,
     "metadata": {},
     "output_type": "execute_result"
    },
    {
     "data": {
      "image/png": "[encoded data removed]",
      "text/plain": [
       "<matplotlib.figure.Figure at 0xbc221f0>"
      ]
     },
     "metadata": {},
     "output_type": "display_data"
    }
   ],
   "source": [
    "ds['Adj Close'].plot(figsize=(8, 6))"
   ]
  },
  {
   "cell_type": "markdown",
   "metadata": {},
   "source": [
    "### 增长倍数"
   ]
  },
  {
   "cell_type": "code",
   "execution_count": 77,
   "metadata": {
    "collapsed": false
   },
   "outputs": [
    {
     "data": {
      "text/plain": [
       "45.929402701285071"
      ]
     },
     "execution_count": 77,
     "metadata": {},
     "output_type": "execute_result"
    }
   ],
   "source": [
    "# 最高增长倍数\n",
    "total_max_growth = ds['Adj Close'].max() / ds['Adj Close'].min()\n",
    "total_max_growth"
   ]
  },
  {
   "cell_type": "code",
   "execution_count": 78,
   "metadata": {
    "collapsed": false
   },
   "outputs": [
    {
     "data": {
      "text/plain": [
       "1.4662535606243374"
      ]
     },
     "execution_count": 78,
     "metadata": {},
     "output_type": "execute_result"
    }
   ],
   "source": [
    "# 最大年均复合增长率\n",
    "min_date = ds['Adj Close'].argmin()\n",
    "max_date = ds['Adj Close'].argmax()\n",
    "max_growth_per_year = total_max_growth ** (1.0 / (max_date.year - min_date.year))\n",
    "max_growth_per_year"
   ]
  },
  {
   "cell_type": "code",
   "execution_count": 79,
   "metadata": {
    "collapsed": false
   },
   "outputs": [
    {
     "data": {
      "text/plain": [
       "13.560436105911435"
      ]
     },
     "execution_count": 79,
     "metadata": {},
     "output_type": "execute_result"
    }
   ],
   "source": [
    "# 当前平均增长倍数\n",
    "total_growth = ds['Adj Close'].ix[0] / ds['Adj Close'].ix[-1]\n",
    "total_growth"
   ]
  },
  {
   "cell_type": "code",
   "execution_count": 80,
   "metadata": {
    "collapsed": false
   },
   "outputs": [
    {
     "data": {
      "text/plain": [
       "1.242670927502014"
      ]
     },
     "execution_count": 80,
     "metadata": {},
     "output_type": "execute_result"
    }
   ],
   "source": [
    "# 年复合增长倍数\n",
    "old_date = ds['Adj Close'].index[-1]\n",
    "now_date = ds['Adj Close'].index[0]\n",
    "growth_per_year = total_growth ** (1.0 / (now_date.year - old_date.year))\n",
    "growth_per_year"
   ]
  }
 ],
 "metadata": {
  "kernelspec": {
   "display_name": "Python 2",
   "language": "python",
   "name": "python2"
  },
  "language_info": {
   "codemirror_mode": {
    "name": "ipython",
    "version": 2
   },
   "file_extension": ".py",
   "mimetype": "text/x-python",
   "name": "python",
   "nbconvert_exporter": "python",
   "pygments_lexer": "ipython2",
   "version": "2.7.10"
  }
 },
 "nbformat": 4,
 "nbformat_minor": 0
}
